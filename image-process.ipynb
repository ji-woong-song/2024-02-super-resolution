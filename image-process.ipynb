{
 "cells": [
  {
   "metadata": {
    "ExecuteTime": {
     "end_time": "2024-11-30T15:56:22.980411Z",
     "start_time": "2024-11-30T15:56:21.445937Z"
    }
   },
   "cell_type": "code",
   "source": [
    "import os\n",
    "from PIL import Image\n",
    "from tqdm import tqdm\n",
    "\n",
    "def create_lr_images(hr_dir, lr_dir):\n",
    "    \"\"\"\n",
    "    HR 이미지의 해상도를 1/3로 줄여 LR 이미지를 생성합니다.\n",
    "    \n",
    "    Args:\n",
    "        hr_dir (str): HR 이미지가 있는 디렉토리 경로\n",
    "        lr_dir (str): LR 이미지를 저장할 디렉토리 경로\n",
    "    \"\"\"\n",
    "    # 출력 디렉토리가 없으면 생성\n",
    "    os.makedirs(lr_dir, exist_ok=True)\n",
    "    \n",
    "    # 지원하는 이미지 확장자\n",
    "    valid_extensions = {'.png', '.jpg', '.jpeg', '.bmp', '.tiff'}\n",
    "    \n",
    "    # HR 디렉토리의 모든 이미지 파일 가져오기\n",
    "    files = [f for f in os.listdir(hr_dir) \n",
    "             if os.path.splitext(f)[1].lower() in valid_extensions]\n",
    "    \n",
    "    print(f\"총 {len(files)}개의 이미지를 처리합니다.\")\n",
    "    \n",
    "    skipped = []\n",
    "    for filename in tqdm(files, desc=\"LR 이미지 생성 중\"):\n",
    "        try:\n",
    "            # HR 이미지 로드\n",
    "            hr_path = os.path.join(hr_dir, filename)\n",
    "            hr_img = Image.open(hr_path)\n",
    "            \n",
    "            # RGBA 이미지를 RGB로 변환\n",
    "            if hr_img.mode == 'RGBA':\n",
    "                hr_img = hr_img.convert('RGB')\n",
    "            \n",
    "            # 현재 이미지 크기\n",
    "            width, height = hr_img.size\n",
    "            \n",
    "            # 새로운 크기 계산 (1/3)\n",
    "            new_width = width // 3\n",
    "            new_height = height // 3\n",
    "            \n",
    "            # 이미지 리사이즈 (고품질을 위해 LANCZOS 필터 사용)\n",
    "            lr_img = hr_img.resize((new_width, new_height), Image.LANCZOS)\n",
    "            \n",
    "            # LR 이미지 저장\n",
    "            lr_path = os.path.join(lr_dir, filename)\n",
    "            lr_img.save(lr_path, quality=95)\n",
    "            \n",
    "        except Exception as e:\n",
    "            print(f\"\\n{filename} 처리 중 오류 발생: {str(e)}\")\n",
    "            skipped.append((filename, str(e)))\n",
    "    \n",
    "    # 처리 결과 출력\n",
    "    print(\"\\n처리 완료!\")\n",
    "    if skipped:\n",
    "        print(\"\\n처리하지 못한 이미지들:\")\n",
    "        for filename, reason in skipped:\n",
    "            print(f\"- {filename}: {reason}\")\n",
    "\n",
    "# 사용 예시\n",
    "if __name__ == \"__main__\":\n",
    "    hr_dir = \"hr\"  # HR 이미지 디렉토리\n",
    "    lr_dir = \"lr\"  # LR 이미지를 저장할 디렉토리\n",
    "    \n",
    "    # 이미지 처리 실행\n",
    "    create_lr_images(hr_dir, lr_dir)"
   ],
   "outputs": [
    {
     "name": "stdout",
     "output_type": "stream",
     "text": [
      "총 100개의 이미지를 처리합니다.\n"
     ]
    },
    {
     "name": "stderr",
     "output_type": "stream",
     "text": [
      "LR 이미지 생성 중: 100%|██████████| 100/100 [00:01<00:00, 65.90it/s]"
     ]
    },
    {
     "name": "stdout",
     "output_type": "stream",
     "text": [
      "\n",
      "처리 완료!\n"
     ]
    },
    {
     "name": "stderr",
     "output_type": "stream",
     "text": [
      "\n"
     ]
    }
   ],
   "execution_count": 3
  },
  {
   "metadata": {},
   "cell_type": "code",
   "outputs": [],
   "execution_count": null,
   "source": ""
  }
 ],
 "metadata": {
  "kernelspec": {
   "display_name": "computer-vision",
   "language": "python",
   "name": "python3"
  },
  "language_info": {
   "name": "python",
   "version": "3.12.5"
  }
 },
 "nbformat": 4,
 "nbformat_minor": 2
}
